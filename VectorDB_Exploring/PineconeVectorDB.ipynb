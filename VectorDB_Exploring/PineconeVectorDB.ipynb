{
 "cells": [
  {
   "cell_type": "code",
   "execution_count": 36,
   "metadata": {},
   "outputs": [
    {
     "ename": "ImportError",
     "evalue": "cannot import name 'from_texts' from 'pinecone' (/Users/loke/Library/CloudStorage/Dropbox/Project/LLM Projects/LLM_MCQ_Generator/llmmcq/lib/python3.9/site-packages/pinecone/__init__.py)",
     "output_type": "error",
     "traceback": [
      "\u001b[0;31m---------------------------------------------------------------------------\u001b[0m",
      "\u001b[0;31mImportError\u001b[0m                               Traceback (most recent call last)",
      "\u001b[1;32m/Users/loke/Library/CloudStorage/Dropbox/Project/LLM Projects/VectorDB_Exploring/PineconeVectorDB.ipynb Cell 1\u001b[0m line \u001b[0;36m1\n\u001b[1;32m      <a href='vscode-notebook-cell:/Users/loke/Library/CloudStorage/Dropbox/Project/LLM%20Projects/VectorDB_Exploring/PineconeVectorDB.ipynb#W1sZmlsZQ%3D%3D?line=8'>9</a>\u001b[0m \u001b[39mfrom\u001b[39;00m \u001b[39mlangchain\u001b[39;00m\u001b[39m.\u001b[39;00m\u001b[39mchains\u001b[39;00m  \u001b[39mimport\u001b[39;00m RetrievalQA\n\u001b[1;32m     <a href='vscode-notebook-cell:/Users/loke/Library/CloudStorage/Dropbox/Project/LLM%20Projects/VectorDB_Exploring/PineconeVectorDB.ipynb#W1sZmlsZQ%3D%3D?line=9'>10</a>\u001b[0m \u001b[39mfrom\u001b[39;00m \u001b[39mlangchain\u001b[39;00m\u001b[39m.\u001b[39;00m\u001b[39mprompts\u001b[39;00m \u001b[39mimport\u001b[39;00m PromptTemplate\n\u001b[0;32m---> <a href='vscode-notebook-cell:/Users/loke/Library/CloudStorage/Dropbox/Project/LLM%20Projects/VectorDB_Exploring/PineconeVectorDB.ipynb#W1sZmlsZQ%3D%3D?line=10'>11</a>\u001b[0m \u001b[39mfrom\u001b[39;00m \u001b[39mpinecone\u001b[39;00m \u001b[39mimport\u001b[39;00m Pinecone, ServerlessSpec,from_texts\n\u001b[1;32m     <a href='vscode-notebook-cell:/Users/loke/Library/CloudStorage/Dropbox/Project/LLM%20Projects/VectorDB_Exploring/PineconeVectorDB.ipynb#W1sZmlsZQ%3D%3D?line=11'>12</a>\u001b[0m \u001b[39mfrom\u001b[39;00m \u001b[39mdotenv\u001b[39;00m \u001b[39mimport\u001b[39;00m load_dotenv\n",
      "\u001b[0;31mImportError\u001b[0m: cannot import name 'from_texts' from 'pinecone' (/Users/loke/Library/CloudStorage/Dropbox/Project/LLM Projects/LLM_MCQ_Generator/llmmcq/lib/python3.9/site-packages/pinecone/__init__.py)"
     ]
    }
   ],
   "source": [
    "import os\n",
    "import requests\n",
    "import pandas as pd\n",
    "from langchain_community.document_loaders.pdf import PyPDFDirectoryLoader\n",
    "from langchain_text_splitters import RecursiveCharacterTextSplitter\n",
    "from langchain_community.embeddings import OpenAIEmbeddings\n",
    "from langchain_community.llms import OpenAI\n",
    "from langchain_community.vectorstores import Pinecone\n",
    "from langchain.chains  import RetrievalQA\n",
    "from langchain.prompts import PromptTemplate\n",
    "from pinecone import Pinecone, ServerlessSpec\n",
    "from dotenv import load_dotenv\n"
   ]
  },
  {
   "cell_type": "code",
   "execution_count": 5,
   "metadata": {},
   "outputs": [],
   "source": [
    "pdf_dir = PyPDFDirectoryLoader('pdfs')\n",
    "data = pdf_dir.load()"
   ]
  },
  {
   "cell_type": "code",
   "execution_count": 7,
   "metadata": {},
   "outputs": [
    {
     "data": {
      "text/plain": [
       "[Document(page_content='Time Series Moving ARIMA  \\n \\nBusiness Objective  \\n \\nA time series is simply a series of data points ordered in time. In a time -series, time is \\noften the independent variable, and the goal is usually to make a forecast for the future.  \\n \\nTime series data can be helpful for many applications in day -to-day activities like:   \\n\\uf0b7 Tracking daily, hourly, or weekly weather data  \\n\\uf0b7 Monitoring changes in application performance  \\n\\uf0b7 Medical devices to visualize vitals in real -time', metadata={'source': 'pdfs/Solution methodology.pdf', 'page': 0}),\n",
       " Document(page_content='Auto-Regressive Integrated Moving Average (ARIMA) m odel is one of the more \\npopular and widely used statistical methods for time -series forecasting. ARIMA is an \\nacronym that stands for Auto -Regressive Integrated Moving Average. It is a class of \\nstatistical algorithms that captures the standard temporal depe ndencies unique to \\ntime-series data.  \\n \\nThe model is used to understand past data or predict future data in a series. It’s used', metadata={'source': 'pdfs/Solution methodology.pdf', 'page': 0}),\n",
       " Document(page_content='when a metric is recorded in regular intervals, from fractions of a second to daily, \\nweekly or monthly periods.  \\n \\nARIMAX (Auto -Regr essive Integrated Moving Average Exogenous) is an extension of \\nthe ARIMA model, and similarly, SARIMAX (Seasonal Auto -Regressive Integrated \\nMoving Average with Exogenous factors) is also an updated version of the ARIMA \\nmodel. We will see how to implement t hese two models as well.', metadata={'source': 'pdfs/Solution methodology.pdf', 'page': 0}),\n",
       " Document(page_content='We have already covered the concept s of Autoregression modelling (Time Series \\nProject to Build an Autoregressive Model in Python ) and Moving Average Smoothing \\ntechniques  (Build a Moving Average Time Series Forecasting Model in Python ) \\n \\nIn this project, we will be implementing the ARIMA model on the given dataset.  \\n \\n \\nData Description   \\n \\nThe dataset is “Call cent ers” data . This data is  at month level wherein the calls are', metadata={'source': 'pdfs/Solution methodology.pdf', 'page': 0}),\n",
       " Document(page_content='segregated at domain level as the call centre  operates for various domains. There are \\nalso external regressors like no of channels and no of phone lines which essentially \\nindicate the traffic prediction of the inhouse analyst and the resources available . \\nThe total number of rows are 132 and number of  columns are 8 :', metadata={'source': 'pdfs/Solution methodology.pdf', 'page': 0}),\n",
       " Document(page_content='• Month, healthcare, telecom, banking, technology, insurance , no of phonelines \\nand no of channels.  \\n \\nAim \\n \\nThis project aims to build a n ARIMA model  on the given dataset.  \\n \\n \\nTech stack  \\n\\uf0d8 Language - Python  \\n\\uf0d8 Libraries - pandas, numpy, matplotlib, seaborn , statsmodels, s cipy \\n \\nApproach  \\n1. Import the required libraries and read the dataset  \\n2. Perform descriptive analysis  \\n3. Exploratory Data Analysis (EDA) - \\n\\uf0a7 Data Visualization   \\n4. Check for white noise', metadata={'source': 'pdfs/Solution methodology.pdf', 'page': 1}),\n",
       " Document(page_content='5. Check for Random Walk  \\n6. Perform Stationarity tests  \\n\\uf0a7 Augmented Dickey -Fuller test  \\n\\uf0a7 KPSS test  \\n7. Seasonal decomposition plot  \\n8. Holt Winter Exponential Smoothing  \\n\\uf0a7 Create and fit the model  \\n\\uf0a7 Make predictions on the model  \\n\\uf0a7 Plot the results  \\n9. ARIMA model  \\n\\uf0a7 Create model s with varying lag values  \\n\\uf0a7 Compare these models using log-likelihood and AIC values  \\n\\uf0a7 Check with the L LR test  \\n\\uf0a7 ACF Plots  of residuals  \\n10. ARIMAX model  \\n\\uf0a7 Create a model', metadata={'source': 'pdfs/Solution methodology.pdf', 'page': 1}),\n",
       " Document(page_content='\\uf0a7 Create a model  \\n\\uf0a7 ACF plots of residuals  \\n11. SARIMAX model  \\n\\uf0a7 Create a model  \\n\\uf0a7 ACF plots of residuals', metadata={'source': 'pdfs/Solution methodology.pdf', 'page': 1}),\n",
       " Document(page_content='Modular code overview  \\n \\n \\n \\nOnce you unzip the modular_code.zip file , you can find the following folders within it.  \\n1. input  \\n2. src  \\n3. output  \\n4. lib  \\n1. Input folder  - It contains all the data that we have for analysis. The following csv \\nis used . \\n\\uf0b7 CallCenterData.xlsx  \\n \\n2. Src folder - This is the most important folder of the project . This folder contains \\nall the  modularized code for all the above steps in a modularized manner.  This \\nfolder consists of:  \\n\\uf0b7 Engine.py', metadata={'source': 'pdfs/Solution methodology.pdf', 'page': 2}),\n",
       " Document(page_content='\\uf0b7 Engine.py  \\n\\uf0b7 ML_Pipeline  \\nThe ML_pipeline is a folder that contains all the functions put into different \\npython files  which are appropriat ely named. These python functions are \\nthen called inside the engine.py file.  \\n Description', metadata={'source': 'pdfs/Solution methodology.pdf', 'page': 2}),\n",
       " Document(page_content='3. Output folder  - The output folder contains all the visualization graphs . There are \\naround 15 different plots . \\n \\n4. Lib folder  - This is a reference folder. It contains the original ipython notebook  \\nthat we saw in the videos.  The ppt used during the videos is also present here.  \\n \\n \\nProject Takeaways  \\n1. Introduction to Time series  \\n2. Understand the basics of time series  \\n3. Importing the dataset and required libraries  \\n4. Exploratory Data Analysis (EDA)', metadata={'source': 'pdfs/Solution methodology.pdf', 'page': 3}),\n",
       " Document(page_content='5. White Noise detection  \\n6. Random Walk detection  \\n7. Stationarity test  \\n8. Seasonality plot  \\n9. Holt Winter Exponential Smoothing m odel \\n10. ARIMA model  \\n11. ACF plots  \\n12. Log-likelihood and AIC test  \\n13. ARIMAX model  \\n14. SARIMAX model', metadata={'source': 'pdfs/Solution methodology.pdf', 'page': 3})]"
      ]
     },
     "execution_count": 7,
     "metadata": {},
     "output_type": "execute_result"
    }
   ],
   "source": [
    "data_splitter = RecursiveCharacterTextSplitter(chunk_size = 500,\n",
    "                               chunk_overlap = 20\n",
    "                               )\n",
    "\n",
    "data_chunks = data_splitter.split_documents(data)\n",
    "data_chunks\n"
   ]
  },
  {
   "cell_type": "code",
   "execution_count": 10,
   "metadata": {},
   "outputs": [
    {
     "name": "stdout",
     "output_type": "stream",
     "text": [
      "Time Series Moving ARIMA  \n",
      " \n",
      "Business Objective  \n",
      " \n",
      "A time series is simply a series of data points ordered in time. In a time -series, time is \n",
      "often the independent variable, and the goal is usually to make a forecast for the future.  \n",
      " \n",
      "Time series data can be helpful for many applications in day -to-day activities like:   \n",
      " Tracking daily, hourly, or weekly weather data  \n",
      " Monitoring changes in application performance  \n",
      " Medical devices to visualize vitals in real -time\n"
     ]
    }
   ],
   "source": [
    "print(data_chunks[0].page_content)"
   ]
  },
  {
   "cell_type": "code",
   "execution_count": 25,
   "metadata": {},
   "outputs": [],
   "source": [
    "load_dotenv()\n",
    "\n",
    "model_id = \"sentence-transformers/all-MiniLM-L6-v2\"\n",
    "hf_token = os.getenv('HF_TOKEN')"
   ]
  },
  {
   "cell_type": "code",
   "execution_count": 27,
   "metadata": {},
   "outputs": [],
   "source": [
    "\n",
    "api_url = f\"https://api-inference.huggingface.co/pipeline/feature-extraction/{model_id}\"\n",
    "headers = {\"Authorization\": f\"Bearer {hf_token}\"}\n",
    "\n",
    "def query(texts):\n",
    "    response = requests.post(api_url, headers=headers, json={\"inputs\": texts, \"options\":{\"wait_for_model\":True}})\n",
    "    return response.json()"
   ]
  },
  {
   "cell_type": "code",
   "execution_count": 28,
   "metadata": {},
   "outputs": [],
   "source": [
    "texts = [\"How do I get a replacement Medicare card?\",\n",
    "        \"What is the monthly premium for Medicare Part B?\",\n",
    "        \"How do I terminate my Medicare Part B (medical insurance)?\",\n",
    "        \"How do I sign up for Medicare?\",\n",
    "        \"Can I sign up for Medicare Part B if I am working and have health insurance through an employer?\",\n",
    "        \"How do I sign up for Medicare Part B if I already have Part A?\",\n",
    "        \"What are Medicare late enrollment penalties?\",\n",
    "        \"What is Medicare and who can get it?\",\n",
    "        \"How can I get help with my Medicare Part A and Part B premiums?\",\n",
    "        \"What are the different parts of Medicare?\",\n",
    "        \"Will my Medicare premiums be higher because of my higher income?\",\n",
    "        \"What is TRICARE ?\",\n",
    "        \"Should I sign up for Medicare Part B if I have Veterans' Benefits?\"]\n",
    "\n",
    "output = query(texts)\n",
    "embeddings =pd.DataFrame(output)"
   ]
  },
  {
   "cell_type": "code",
   "execution_count": 46,
   "metadata": {},
   "outputs": [],
   "source": [
    "embeddings_df = pd.DataFrame({\n",
    "    'id': texts,\n",
    "    'vector': output\n",
    "})"
   ]
  },
  {
   "cell_type": "code",
   "execution_count": 47,
   "metadata": {},
   "outputs": [
    {
     "data": {
      "text/html": [
       "<div>\n",
       "<style scoped>\n",
       "    .dataframe tbody tr th:only-of-type {\n",
       "        vertical-align: middle;\n",
       "    }\n",
       "\n",
       "    .dataframe tbody tr th {\n",
       "        vertical-align: top;\n",
       "    }\n",
       "\n",
       "    .dataframe thead th {\n",
       "        text-align: right;\n",
       "    }\n",
       "</style>\n",
       "<table border=\"1\" class=\"dataframe\">\n",
       "  <thead>\n",
       "    <tr style=\"text-align: right;\">\n",
       "      <th></th>\n",
       "      <th>id</th>\n",
       "      <th>vector</th>\n",
       "    </tr>\n",
       "  </thead>\n",
       "  <tbody>\n",
       "    <tr>\n",
       "      <th>0</th>\n",
       "      <td>How do I get a replacement Medicare card?</td>\n",
       "      <td>[-0.023889480158686638, 0.055258527398109436, ...</td>\n",
       "    </tr>\n",
       "    <tr>\n",
       "      <th>1</th>\n",
       "      <td>What is the monthly premium for Medicare Part B?</td>\n",
       "      <td>[-0.012687616981565952, 0.046874117106199265, ...</td>\n",
       "    </tr>\n",
       "    <tr>\n",
       "      <th>2</th>\n",
       "      <td>How do I terminate my Medicare Part B (medical...</td>\n",
       "      <td>[0.0004943753010593355, 0.11941202729940414, 0...</td>\n",
       "    </tr>\n",
       "    <tr>\n",
       "      <th>3</th>\n",
       "      <td>How do I sign up for Medicare?</td>\n",
       "      <td>[-0.029711339622735977, 0.023298313841223717, ...</td>\n",
       "    </tr>\n",
       "    <tr>\n",
       "      <th>4</th>\n",
       "      <td>Can I sign up for Medicare Part B if I am work...</td>\n",
       "      <td>[-0.02562847174704075, 0.07038860023021698, -0...</td>\n",
       "    </tr>\n",
       "    <tr>\n",
       "      <th>5</th>\n",
       "      <td>How do I sign up for Medicare Part B if I alre...</td>\n",
       "      <td>[-0.022656138986349106, 0.021159760653972626, ...</td>\n",
       "    </tr>\n",
       "    <tr>\n",
       "      <th>6</th>\n",
       "      <td>What are Medicare late enrollment penalties?</td>\n",
       "      <td>[-0.002911375602707267, 0.060791268944740295, ...</td>\n",
       "    </tr>\n",
       "    <tr>\n",
       "      <th>7</th>\n",
       "      <td>What is Medicare and who can get it?</td>\n",
       "      <td>[-0.08052559196949005, 0.05988813564181328, -0...</td>\n",
       "    </tr>\n",
       "    <tr>\n",
       "      <th>8</th>\n",
       "      <td>How can I get help with my Medicare Part A and...</td>\n",
       "      <td>[-0.034387730062007904, 0.07250141352415085, 0...</td>\n",
       "    </tr>\n",
       "    <tr>\n",
       "      <th>9</th>\n",
       "      <td>What are the different parts of Medicare?</td>\n",
       "      <td>[-0.005963803268969059, 0.025043729692697525, ...</td>\n",
       "    </tr>\n",
       "    <tr>\n",
       "      <th>10</th>\n",
       "      <td>Will my Medicare premiums be higher because of...</td>\n",
       "      <td>[-0.039007991552352905, -0.010609465651214123,...</td>\n",
       "    </tr>\n",
       "    <tr>\n",
       "      <th>11</th>\n",
       "      <td>What is TRICARE ?</td>\n",
       "      <td>[-0.09598277509212494, -0.06301171332597733, -...</td>\n",
       "    </tr>\n",
       "    <tr>\n",
       "      <th>12</th>\n",
       "      <td>Should I sign up for Medicare Part B if I have...</td>\n",
       "      <td>[-0.01160036213696003, 0.056510016322135925, 0...</td>\n",
       "    </tr>\n",
       "  </tbody>\n",
       "</table>\n",
       "</div>"
      ],
      "text/plain": [
       "                                                   id  \\\n",
       "0           How do I get a replacement Medicare card?   \n",
       "1    What is the monthly premium for Medicare Part B?   \n",
       "2   How do I terminate my Medicare Part B (medical...   \n",
       "3                      How do I sign up for Medicare?   \n",
       "4   Can I sign up for Medicare Part B if I am work...   \n",
       "5   How do I sign up for Medicare Part B if I alre...   \n",
       "6        What are Medicare late enrollment penalties?   \n",
       "7                What is Medicare and who can get it?   \n",
       "8   How can I get help with my Medicare Part A and...   \n",
       "9           What are the different parts of Medicare?   \n",
       "10  Will my Medicare premiums be higher because of...   \n",
       "11                                  What is TRICARE ?   \n",
       "12  Should I sign up for Medicare Part B if I have...   \n",
       "\n",
       "                                               vector  \n",
       "0   [-0.023889480158686638, 0.055258527398109436, ...  \n",
       "1   [-0.012687616981565952, 0.046874117106199265, ...  \n",
       "2   [0.0004943753010593355, 0.11941202729940414, 0...  \n",
       "3   [-0.029711339622735977, 0.023298313841223717, ...  \n",
       "4   [-0.02562847174704075, 0.07038860023021698, -0...  \n",
       "5   [-0.022656138986349106, 0.021159760653972626, ...  \n",
       "6   [-0.002911375602707267, 0.060791268944740295, ...  \n",
       "7   [-0.08052559196949005, 0.05988813564181328, -0...  \n",
       "8   [-0.034387730062007904, 0.07250141352415085, 0...  \n",
       "9   [-0.005963803268969059, 0.025043729692697525, ...  \n",
       "10  [-0.039007991552352905, -0.010609465651214123,...  \n",
       "11  [-0.09598277509212494, -0.06301171332597733, -...  \n",
       "12  [-0.01160036213696003, 0.056510016322135925, 0...  "
      ]
     },
     "execution_count": 47,
     "metadata": {},
     "output_type": "execute_result"
    }
   ],
   "source": [
    "embeddings_df"
   ]
  },
  {
   "cell_type": "code",
   "execution_count": 48,
   "metadata": {},
   "outputs": [
    {
     "data": {
      "text/plain": [
       "{'upserted_count': 13}"
      ]
     },
     "execution_count": 48,
     "metadata": {},
     "output_type": "execute_result"
    }
   ],
   "source": [
    "load_dotenv()\n",
    "api_key = os.getenv('PINECONE_API_KEY')\n",
    "pc = Pinecone(api_key= api_key)\n",
    "index_name = 'testing'\n",
    "index = pc.Index(index_name)\n",
    "index.upsert(vectors=zip(embeddings_df.id,embeddings_df.vector))"
   ]
  }
 ],
 "metadata": {
  "kernelspec": {
   "display_name": "Python 3",
   "language": "python",
   "name": "python3"
  },
  "language_info": {
   "codemirror_mode": {
    "name": "ipython",
    "version": 3
   },
   "file_extension": ".py",
   "mimetype": "text/x-python",
   "name": "python",
   "nbconvert_exporter": "python",
   "pygments_lexer": "ipython3",
   "version": "3.9.19"
  }
 },
 "nbformat": 4,
 "nbformat_minor": 2
}
