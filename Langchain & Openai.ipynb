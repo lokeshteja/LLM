{
 "cells": [
  {
   "cell_type": "code",
   "execution_count": 10,
   "id": "aa6464f6-33b9-48af-8809-a22051540537",
   "metadata": {},
   "outputs": [],
   "source": [
    "import openai \n",
    "import pandas as pd"
   ]
  },
  {
   "cell_type": "code",
   "execution_count": 11,
   "id": "9f193f95-673a-4907-9702-56eb08905b3a",
   "metadata": {},
   "outputs": [],
   "source": [
    "mykey = 'sk-proj-1dcLWIoVQZE3zqPNvRfoT3BlbkFJRF2Yx6V2rMzzEFmDPqEo'"
   ]
  },
  {
   "cell_type": "code",
   "execution_count": 12,
   "id": "7240670e-f521-4474-b5d1-4b117ff37106",
   "metadata": {},
   "outputs": [],
   "source": [
    "openai.api_key = mykey"
   ]
  },
  {
   "cell_type": "code",
   "execution_count": 15,
   "id": "01fe5dad-1fde-4068-b632-92c253bd90e3",
   "metadata": {},
   "outputs": [],
   "source": [
    "models = openai.models.list()\n",
    "df_models = pd.DataFrame(list(models),columns = ['id','created','object', 'owned_by'])"
   ]
  },
  {
   "cell_type": "code",
   "execution_count": 16,
   "id": "b692ed13-3dfd-425c-8dc1-ebbc08fed1aa",
   "metadata": {},
   "outputs": [
    {
     "data": {
      "text/html": [
       "<div>\n",
       "<style scoped>\n",
       "    .dataframe tbody tr th:only-of-type {\n",
       "        vertical-align: middle;\n",
       "    }\n",
       "\n",
       "    .dataframe tbody tr th {\n",
       "        vertical-align: top;\n",
       "    }\n",
       "\n",
       "    .dataframe thead th {\n",
       "        text-align: right;\n",
       "    }\n",
       "</style>\n",
       "<table border=\"1\" class=\"dataframe\">\n",
       "  <thead>\n",
       "    <tr style=\"text-align: right;\">\n",
       "      <th></th>\n",
       "      <th>id</th>\n",
       "      <th>created</th>\n",
       "      <th>object</th>\n",
       "      <th>owned_by</th>\n",
       "    </tr>\n",
       "  </thead>\n",
       "  <tbody>\n",
       "    <tr>\n",
       "      <th>0</th>\n",
       "      <td>(id, gpt-3.5-turbo-16k-0613)</td>\n",
       "      <td>(created, 1685474247)</td>\n",
       "      <td>(object, model)</td>\n",
       "      <td>(owned_by, openai)</td>\n",
       "    </tr>\n",
       "    <tr>\n",
       "      <th>1</th>\n",
       "      <td>(id, whisper-1)</td>\n",
       "      <td>(created, 1677532384)</td>\n",
       "      <td>(object, model)</td>\n",
       "      <td>(owned_by, openai-internal)</td>\n",
       "    </tr>\n",
       "    <tr>\n",
       "      <th>2</th>\n",
       "      <td>(id, davinci-002)</td>\n",
       "      <td>(created, 1692634301)</td>\n",
       "      <td>(object, model)</td>\n",
       "      <td>(owned_by, system)</td>\n",
       "    </tr>\n",
       "    <tr>\n",
       "      <th>3</th>\n",
       "      <td>(id, gpt-3.5-turbo-16k)</td>\n",
       "      <td>(created, 1683758102)</td>\n",
       "      <td>(object, model)</td>\n",
       "      <td>(owned_by, openai-internal)</td>\n",
       "    </tr>\n",
       "    <tr>\n",
       "      <th>4</th>\n",
       "      <td>(id, dall-e-2)</td>\n",
       "      <td>(created, 1698798177)</td>\n",
       "      <td>(object, model)</td>\n",
       "      <td>(owned_by, system)</td>\n",
       "    </tr>\n",
       "    <tr>\n",
       "      <th>5</th>\n",
       "      <td>(id, tts-1-hd-1106)</td>\n",
       "      <td>(created, 1699053533)</td>\n",
       "      <td>(object, model)</td>\n",
       "      <td>(owned_by, system)</td>\n",
       "    </tr>\n",
       "    <tr>\n",
       "      <th>6</th>\n",
       "      <td>(id, tts-1-hd)</td>\n",
       "      <td>(created, 1699046015)</td>\n",
       "      <td>(object, model)</td>\n",
       "      <td>(owned_by, system)</td>\n",
       "    </tr>\n",
       "    <tr>\n",
       "      <th>7</th>\n",
       "      <td>(id, dall-e-3)</td>\n",
       "      <td>(created, 1698785189)</td>\n",
       "      <td>(object, model)</td>\n",
       "      <td>(owned_by, system)</td>\n",
       "    </tr>\n",
       "    <tr>\n",
       "      <th>8</th>\n",
       "      <td>(id, gpt-4-1106-preview)</td>\n",
       "      <td>(created, 1698957206)</td>\n",
       "      <td>(object, model)</td>\n",
       "      <td>(owned_by, system)</td>\n",
       "    </tr>\n",
       "    <tr>\n",
       "      <th>9</th>\n",
       "      <td>(id, gpt-4-0613)</td>\n",
       "      <td>(created, 1686588896)</td>\n",
       "      <td>(object, model)</td>\n",
       "      <td>(owned_by, openai)</td>\n",
       "    </tr>\n",
       "    <tr>\n",
       "      <th>10</th>\n",
       "      <td>(id, gpt-3.5-turbo-instruct-0914)</td>\n",
       "      <td>(created, 1694122472)</td>\n",
       "      <td>(object, model)</td>\n",
       "      <td>(owned_by, system)</td>\n",
       "    </tr>\n",
       "    <tr>\n",
       "      <th>11</th>\n",
       "      <td>(id, gpt-3.5-turbo-instruct)</td>\n",
       "      <td>(created, 1692901427)</td>\n",
       "      <td>(object, model)</td>\n",
       "      <td>(owned_by, system)</td>\n",
       "    </tr>\n",
       "    <tr>\n",
       "      <th>12</th>\n",
       "      <td>(id, tts-1)</td>\n",
       "      <td>(created, 1681940951)</td>\n",
       "      <td>(object, model)</td>\n",
       "      <td>(owned_by, openai-internal)</td>\n",
       "    </tr>\n",
       "    <tr>\n",
       "      <th>13</th>\n",
       "      <td>(id, gpt-3.5-turbo-0613)</td>\n",
       "      <td>(created, 1686587434)</td>\n",
       "      <td>(object, model)</td>\n",
       "      <td>(owned_by, openai)</td>\n",
       "    </tr>\n",
       "    <tr>\n",
       "      <th>14</th>\n",
       "      <td>(id, gpt-3.5-turbo-0301)</td>\n",
       "      <td>(created, 1677649963)</td>\n",
       "      <td>(object, model)</td>\n",
       "      <td>(owned_by, openai)</td>\n",
       "    </tr>\n",
       "    <tr>\n",
       "      <th>15</th>\n",
       "      <td>(id, babbage-002)</td>\n",
       "      <td>(created, 1692634615)</td>\n",
       "      <td>(object, model)</td>\n",
       "      <td>(owned_by, system)</td>\n",
       "    </tr>\n",
       "    <tr>\n",
       "      <th>16</th>\n",
       "      <td>(id, gpt-4-turbo-preview)</td>\n",
       "      <td>(created, 1706037777)</td>\n",
       "      <td>(object, model)</td>\n",
       "      <td>(owned_by, system)</td>\n",
       "    </tr>\n",
       "    <tr>\n",
       "      <th>17</th>\n",
       "      <td>(id, gpt-4-0125-preview)</td>\n",
       "      <td>(created, 1706037612)</td>\n",
       "      <td>(object, model)</td>\n",
       "      <td>(owned_by, system)</td>\n",
       "    </tr>\n",
       "    <tr>\n",
       "      <th>18</th>\n",
       "      <td>(id, tts-1-1106)</td>\n",
       "      <td>(created, 1699053241)</td>\n",
       "      <td>(object, model)</td>\n",
       "      <td>(owned_by, system)</td>\n",
       "    </tr>\n",
       "    <tr>\n",
       "      <th>19</th>\n",
       "      <td>(id, text-embedding-3-large)</td>\n",
       "      <td>(created, 1705953180)</td>\n",
       "      <td>(object, model)</td>\n",
       "      <td>(owned_by, system)</td>\n",
       "    </tr>\n",
       "    <tr>\n",
       "      <th>20</th>\n",
       "      <td>(id, gpt-3.5-turbo)</td>\n",
       "      <td>(created, 1677610602)</td>\n",
       "      <td>(object, model)</td>\n",
       "      <td>(owned_by, openai)</td>\n",
       "    </tr>\n",
       "    <tr>\n",
       "      <th>21</th>\n",
       "      <td>(id, gpt-3.5-turbo-0125)</td>\n",
       "      <td>(created, 1706048358)</td>\n",
       "      <td>(object, model)</td>\n",
       "      <td>(owned_by, system)</td>\n",
       "    </tr>\n",
       "    <tr>\n",
       "      <th>22</th>\n",
       "      <td>(id, gpt-4-1106-vision-preview)</td>\n",
       "      <td>(created, 1711473033)</td>\n",
       "      <td>(object, model)</td>\n",
       "      <td>(owned_by, system)</td>\n",
       "    </tr>\n",
       "    <tr>\n",
       "      <th>23</th>\n",
       "      <td>(id, gpt-4)</td>\n",
       "      <td>(created, 1687882411)</td>\n",
       "      <td>(object, model)</td>\n",
       "      <td>(owned_by, openai)</td>\n",
       "    </tr>\n",
       "    <tr>\n",
       "      <th>24</th>\n",
       "      <td>(id, text-embedding-3-small)</td>\n",
       "      <td>(created, 1705948997)</td>\n",
       "      <td>(object, model)</td>\n",
       "      <td>(owned_by, system)</td>\n",
       "    </tr>\n",
       "    <tr>\n",
       "      <th>25</th>\n",
       "      <td>(id, gpt-4-vision-preview)</td>\n",
       "      <td>(created, 1698894917)</td>\n",
       "      <td>(object, model)</td>\n",
       "      <td>(owned_by, system)</td>\n",
       "    </tr>\n",
       "    <tr>\n",
       "      <th>26</th>\n",
       "      <td>(id, text-embedding-ada-002)</td>\n",
       "      <td>(created, 1671217299)</td>\n",
       "      <td>(object, model)</td>\n",
       "      <td>(owned_by, openai-internal)</td>\n",
       "    </tr>\n",
       "    <tr>\n",
       "      <th>27</th>\n",
       "      <td>(id, gpt-4-turbo-2024-04-09)</td>\n",
       "      <td>(created, 1712601677)</td>\n",
       "      <td>(object, model)</td>\n",
       "      <td>(owned_by, system)</td>\n",
       "    </tr>\n",
       "    <tr>\n",
       "      <th>28</th>\n",
       "      <td>(id, gpt-3.5-turbo-1106)</td>\n",
       "      <td>(created, 1698959748)</td>\n",
       "      <td>(object, model)</td>\n",
       "      <td>(owned_by, system)</td>\n",
       "    </tr>\n",
       "    <tr>\n",
       "      <th>29</th>\n",
       "      <td>(id, gpt-4-turbo)</td>\n",
       "      <td>(created, 1712361441)</td>\n",
       "      <td>(object, model)</td>\n",
       "      <td>(owned_by, system)</td>\n",
       "    </tr>\n",
       "  </tbody>\n",
       "</table>\n",
       "</div>"
      ],
      "text/plain": [
       "                                   id                created           object  \\\n",
       "0        (id, gpt-3.5-turbo-16k-0613)  (created, 1685474247)  (object, model)   \n",
       "1                     (id, whisper-1)  (created, 1677532384)  (object, model)   \n",
       "2                   (id, davinci-002)  (created, 1692634301)  (object, model)   \n",
       "3             (id, gpt-3.5-turbo-16k)  (created, 1683758102)  (object, model)   \n",
       "4                      (id, dall-e-2)  (created, 1698798177)  (object, model)   \n",
       "5                 (id, tts-1-hd-1106)  (created, 1699053533)  (object, model)   \n",
       "6                      (id, tts-1-hd)  (created, 1699046015)  (object, model)   \n",
       "7                      (id, dall-e-3)  (created, 1698785189)  (object, model)   \n",
       "8            (id, gpt-4-1106-preview)  (created, 1698957206)  (object, model)   \n",
       "9                    (id, gpt-4-0613)  (created, 1686588896)  (object, model)   \n",
       "10  (id, gpt-3.5-turbo-instruct-0914)  (created, 1694122472)  (object, model)   \n",
       "11       (id, gpt-3.5-turbo-instruct)  (created, 1692901427)  (object, model)   \n",
       "12                        (id, tts-1)  (created, 1681940951)  (object, model)   \n",
       "13           (id, gpt-3.5-turbo-0613)  (created, 1686587434)  (object, model)   \n",
       "14           (id, gpt-3.5-turbo-0301)  (created, 1677649963)  (object, model)   \n",
       "15                  (id, babbage-002)  (created, 1692634615)  (object, model)   \n",
       "16          (id, gpt-4-turbo-preview)  (created, 1706037777)  (object, model)   \n",
       "17           (id, gpt-4-0125-preview)  (created, 1706037612)  (object, model)   \n",
       "18                   (id, tts-1-1106)  (created, 1699053241)  (object, model)   \n",
       "19       (id, text-embedding-3-large)  (created, 1705953180)  (object, model)   \n",
       "20                (id, gpt-3.5-turbo)  (created, 1677610602)  (object, model)   \n",
       "21           (id, gpt-3.5-turbo-0125)  (created, 1706048358)  (object, model)   \n",
       "22    (id, gpt-4-1106-vision-preview)  (created, 1711473033)  (object, model)   \n",
       "23                        (id, gpt-4)  (created, 1687882411)  (object, model)   \n",
       "24       (id, text-embedding-3-small)  (created, 1705948997)  (object, model)   \n",
       "25         (id, gpt-4-vision-preview)  (created, 1698894917)  (object, model)   \n",
       "26       (id, text-embedding-ada-002)  (created, 1671217299)  (object, model)   \n",
       "27       (id, gpt-4-turbo-2024-04-09)  (created, 1712601677)  (object, model)   \n",
       "28           (id, gpt-3.5-turbo-1106)  (created, 1698959748)  (object, model)   \n",
       "29                  (id, gpt-4-turbo)  (created, 1712361441)  (object, model)   \n",
       "\n",
       "                       owned_by  \n",
       "0            (owned_by, openai)  \n",
       "1   (owned_by, openai-internal)  \n",
       "2            (owned_by, system)  \n",
       "3   (owned_by, openai-internal)  \n",
       "4            (owned_by, system)  \n",
       "5            (owned_by, system)  \n",
       "6            (owned_by, system)  \n",
       "7            (owned_by, system)  \n",
       "8            (owned_by, system)  \n",
       "9            (owned_by, openai)  \n",
       "10           (owned_by, system)  \n",
       "11           (owned_by, system)  \n",
       "12  (owned_by, openai-internal)  \n",
       "13           (owned_by, openai)  \n",
       "14           (owned_by, openai)  \n",
       "15           (owned_by, system)  \n",
       "16           (owned_by, system)  \n",
       "17           (owned_by, system)  \n",
       "18           (owned_by, system)  \n",
       "19           (owned_by, system)  \n",
       "20           (owned_by, openai)  \n",
       "21           (owned_by, system)  \n",
       "22           (owned_by, system)  \n",
       "23           (owned_by, openai)  \n",
       "24           (owned_by, system)  \n",
       "25           (owned_by, system)  \n",
       "26  (owned_by, openai-internal)  \n",
       "27           (owned_by, system)  \n",
       "28           (owned_by, system)  \n",
       "29           (owned_by, system)  "
      ]
     },
     "execution_count": 16,
     "metadata": {},
     "output_type": "execute_result"
    }
   ],
   "source": [
    "df_models"
   ]
  },
  {
   "cell_type": "raw",
   "id": "097b8d59-c6f2-4a4b-8d97-46cf417499e5",
   "metadata": {},
   "source": []
  },
  {
   "cell_type": "code",
   "execution_count": 19,
   "id": "192568a0-353b-4b2a-9a9b-564a9b83ca64",
   "metadata": {},
   "outputs": [
    {
     "ename": "SyntaxError",
     "evalue": "incomplete input (983159016.py, line 3)",
     "output_type": "error",
     "traceback": [
      "\u001b[0;36m  Cell \u001b[0;32mIn[19], line 3\u001b[0;36m\u001b[0m\n\u001b[0;31m    response = client.chat.completions.create(\u001b[0m\n\u001b[0m                                              ^\u001b[0m\n\u001b[0;31mSyntaxError\u001b[0m\u001b[0;31m:\u001b[0m incomplete input\n"
     ]
    }
   ],
   "source": [
    "# chatcompletion api \n",
    "client = OpenAI(api_key = mykey )\n",
    "response = client.chat.completions.create(\n",
    "    model = 'gpt-'\n",
    "    messages = [{'role':'user',\n",
    "                'content':}]"
   ]
  },
  {
   "cell_type": "code",
   "execution_count": 20,
   "id": "7a82862a-0082-43bb-bee4-0f00715c71fa",
   "metadata": {},
   "outputs": [],
   "source": [
    "#Direct call and the Funciton calling \n",
    "# learn LLM model ot connect to the third party API.  \n"
   ]
  },
  {
   "cell_type": "markdown",
   "id": "d8a44573-42da-44e4-8aea-e46c64e8a8ee",
   "metadata": {},
   "source": [
    "### Langchain"
   ]
  },
  {
   "cell_type": "code",
   "execution_count": 25,
   "id": "962fbe18-1661-4fd8-9b0d-29fb4eb33269",
   "metadata": {},
   "outputs": [],
   "source": [
    "import langchain\n",
    "from langchain.llms import OpenAI"
   ]
  },
  {
   "cell_type": "code",
   "execution_count": 33,
   "id": "42acebe8-4cc6-4360-ab75-16fb5d43da50",
   "metadata": {},
   "outputs": [],
   "source": [
    "client = OpenAI(openai_api_key = mykey)\n",
    "prompt = 'who are the prime ministers of india'\n",
    "res = client.predict(prompt)"
   ]
  },
  {
   "cell_type": "code",
   "execution_count": 36,
   "id": "902a33a5-f04a-4f04-a187-d16aa2637606",
   "metadata": {},
   "outputs": [
    {
     "name": "stdout",
     "output_type": "stream",
     "text": [
      "1. Narendra Modi - Current Prime Minister of India (2014-present)\n",
      "2. Manmohan Singh - 13th Prime Minister of India (2004-2014)\n",
      "3. Atal Bihari Vajpayee - 10th Prime Minister of India (1998-2004)\n",
      "4. Inder Kumar Gujral - 12th Prime Minister of India (1997-1998)\n",
      "5. H.D. Deve Gowda - 11th Prime Minister of India (1996-1997)\n",
      "6. P.V. Narasimha Rao - 9th Prime Minister of India (1991-1996)\n",
      "7. Chandra Shekhar - 8th Prime Minister of India (1990-1991)\n",
      "8. Rajiv Gandhi - 6th Prime Minister of India (1984-1989)\n",
      "9. Charan Singh - 5th Prime Minister of India (1979-1980)\n",
      "10. Morarji Desai - 4th Prime Minister of India (1977-1979)\n",
      "11. Indira Gandhi - 3rd Prime Minister of India (1966-1977, 1980-1984)\n",
      "12. Lal Bahadur Shastri -\n"
     ]
    }
   ],
   "source": [
    "print(res.strip())"
   ]
  },
  {
   "cell_type": "markdown",
   "id": "4e717ef8-0f75-4313-8210-d23be57ed8dc",
   "metadata": {},
   "source": [
    "### Promp template"
   ]
  },
  {
   "cell_type": "code",
   "execution_count": 37,
   "id": "f6d39b02-db81-4e40-98d4-2447d507c228",
   "metadata": {},
   "outputs": [],
   "source": [
    "from langchain.prompts import PromptTemplate\n"
   ]
  },
  {
   "cell_type": "code",
   "execution_count": 39,
   "id": "87e7fdbe-94a0-4ba2-b142-92e1f6b2b3eb",
   "metadata": {},
   "outputs": [
    {
     "data": {
      "text/plain": [
       "'can you tell me the capity of this India ?'"
      ]
     },
     "execution_count": 39,
     "metadata": {},
     "output_type": "execute_result"
    }
   ],
   "source": [
    "prompt_template = PromptTemplate(\n",
    "    input_variables=['country'],\n",
    "    template = 'can you tell me the capity of this {country} ?')\n",
    "prompt_template.format(country = 'India')\n"
   ]
  },
  {
   "cell_type": "code",
   "execution_count": 40,
   "id": "23a368e0-efd2-4ecc-a565-40a16d2b4ee8",
   "metadata": {},
   "outputs": [
    {
     "data": {
      "text/plain": [
       "'who is the president of this India?'"
      ]
     },
     "execution_count": 40,
     "metadata": {},
     "output_type": "execute_result"
    }
   ],
   "source": [
    "prompt_template1 = PromptTemplate.from_template('who is the president of this {country}?')\n",
    "prompt_template1.format(country = 'India')"
   ]
  },
  {
   "cell_type": "markdown",
   "id": "f0ab8a5c-4441-4145-a5d7-e1be66f7243a",
   "metadata": {},
   "source": [
    "### Agent"
   ]
  },
  {
   "cell_type": "code",
   "execution_count": 42,
   "id": "8a8c2ed5-c567-43a2-83d7-68f590a1828e",
   "metadata": {},
   "outputs": [
    {
     "name": "stdout",
     "output_type": "stream",
     "text": [
      "Collecting google-search-results\n",
      "  Downloading google_search_results-2.4.2.tar.gz (18 kB)\n",
      "  Preparing metadata (setup.py) ... \u001b[?25ldone\n",
      "\u001b[?25hRequirement already satisfied: requests in /Users/loke/anaconda3/envs/openai/lib/python3.12/site-packages (from google-search-results) (2.31.0)\n",
      "Requirement already satisfied: charset-normalizer<4,>=2 in /Users/loke/anaconda3/envs/openai/lib/python3.12/site-packages (from requests->google-search-results) (3.3.2)\n",
      "Requirement already satisfied: idna<4,>=2.5 in /Users/loke/anaconda3/envs/openai/lib/python3.12/site-packages (from requests->google-search-results) (3.7)\n",
      "Requirement already satisfied: urllib3<3,>=1.21.1 in /Users/loke/anaconda3/envs/openai/lib/python3.12/site-packages (from requests->google-search-results) (2.2.1)\n",
      "Requirement already satisfied: certifi>=2017.4.17 in /Users/loke/anaconda3/envs/openai/lib/python3.12/site-packages (from requests->google-search-results) (2024.2.2)\n",
      "Building wheels for collected packages: google-search-results\n",
      "  Building wheel for google-search-results (setup.py) ... \u001b[?25ldone\n",
      "\u001b[?25h  Created wheel for google-search-results: filename=google_search_results-2.4.2-py3-none-any.whl size=32003 sha256=cd0309e80ee68cf2db2467cce5b831db697e84890e2e07f186204e9ec023b024\n",
      "  Stored in directory: /Users/loke/Library/Caches/pip/wheels/0c/47/f5/89b7e770ab2996baf8c910e7353d6391e373075a0ac213519e\n",
      "Successfully built google-search-results\n",
      "Installing collected packages: google-search-results\n",
      "Successfully installed google-search-results-2.4.2\n"
     ]
    }
   ],
   "source": [
    "# Exploring serp api\n",
    "!pip install google-search-results"
   ]
  },
  {
   "cell_type": "code",
   "execution_count": null,
   "id": "8b23441c-0a47-48c9-9340-75c2922567e8",
   "metadata": {},
   "outputs": [],
   "source": [
    "from langchain.agents import AgentType\n",
    "from langchain.agents import load_tools\n",
    "from langchain.agents import initialize_agent\n",
    "\n",
    "tool = load_tools(['serpapi'], searpapi_api_key = serpapi_key,llm = client)\n",
    "agent = initialize_agent(tool, client, agent = AgentType.ZERO_SHOT_REACT_DESCRIPTION, verbose = True)\n",
    "agent.run('Can you tell who is won the recent olympics in hockey?')"
   ]
  },
  {
   "cell_type": "code",
   "execution_count": null,
   "id": "9c147c39-1e36-449c-bff2-68dd10e9f98f",
   "metadata": {},
   "outputs": [],
   "source": [
    "from langchain.chains import LLMChain\n",
    "promt = PromptTemplate.from_template('What is the best version of this{item}')\n",
    "chian = LLMChain(llm = clinet, prompt = prompt)\n",
    "chain.run('Beer')"
   ]
  },
  {
   "cell_type": "code",
   "execution_count": 43,
   "id": "9e2f547d-bb7a-4cbd-b944-e4c782617d47",
   "metadata": {},
   "outputs": [],
   "source": [
    "from langchain.chains import SimpleSequentialChain\n",
    "from langchain.chains import SequentialChain\n",
    "#here we can create numberous chains as above LLMChain and now compbine all those chains \n",
    "from langchain.document_loaders import PyPDFLoader\n",
    "\n",
    "PyPDFLoader('')"
   ]
  },
  {
   "cell_type": "markdown",
   "id": "6e50911f-597d-44c6-8557-63873d0d9840",
   "metadata": {},
   "source": []
  }
 ],
 "metadata": {
  "kernelspec": {
   "display_name": "Python 3 (ipykernel)",
   "language": "python",
   "name": "python3"
  },
  "language_info": {
   "codemirror_mode": {
    "name": "ipython",
    "version": 3
   },
   "file_extension": ".py",
   "mimetype": "text/x-python",
   "name": "python",
   "nbconvert_exporter": "python",
   "pygments_lexer": "ipython3",
   "version": "3.12.2"
  }
 },
 "nbformat": 4,
 "nbformat_minor": 5
}
