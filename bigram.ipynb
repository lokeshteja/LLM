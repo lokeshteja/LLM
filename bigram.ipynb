{
 "cells": [
  {
   "cell_type": "code",
   "execution_count": 1,
   "metadata": {},
   "outputs": [],
   "source": [
    "import torch\n",
    "import time\n",
    "import numpy as np\n",
    "import torch.nn as nn\n",
    "from torch.nn import functional as F\n",
    "\n",
    "device = 'cuda' if torch.cuda.is_available() else 'cpu'\n",
    "##the two hyperparametes\n",
    "block_size = 8 #length of integers\n",
    "batch_size = 4 #number of blocks in parallel\n",
    "max_iters = 1000\n",
    "learning_rate = 3e-4\n",
    "eval_iters = 250\n",
    "dropout = 0.2"
   ]
  },
  {
   "cell_type": "code",
   "execution_count": 4,
   "metadata": {},
   "outputs": [
    {
     "name": "stdout",
     "output_type": "stream",
     "text": [
      "<class 'str'>\n",
      "['\\n', ' ', '!', '\"', '&', \"'\", '(', ')', '*', ',', '-', '.', '0', '1', '2', '3', '4', '5', '6', '7', '8', '9', ':', ';', '?', 'A', 'B', 'C', 'D', 'E', 'F', 'G', 'H', 'I', 'J', 'K', 'L', 'M', 'N', 'O', 'P', 'Q', 'R', 'S', 'T', 'U', 'V', 'W', 'X', 'Y', 'Z', '[', ']', '_', 'a', 'b', 'c', 'd', 'e', 'f', 'g', 'h', 'i', 'j', 'k', 'l', 'm', 'n', 'o', 'p', 'q', 'r', 's', 't', 'u', 'v', 'w', 'x', 'y', 'z']\n"
     ]
    }
   ],
   "source": [
    "with open('wizard_of_oz.txt','r',encoding='utf-8') as f:\n",
    "    text = f.read()\n",
    "# print(text[:200])\n",
    "print(type(text))\n",
    "chars = sorted(set(text))\n",
    "vocab_size = len(chars)\n",
    "print(chars)\n"
   ]
  },
  {
   "cell_type": "code",
   "execution_count": 5,
   "metadata": {},
   "outputs": [
    {
     "data": {
      "text/plain": [
       "'hello'"
      ]
     },
     "execution_count": 5,
     "metadata": {},
     "output_type": "execute_result"
    }
   ],
   "source": [
    "string_int = {ch:i for i,ch in enumerate(chars)}\n",
    "int_string = {i:ch for i,ch in enumerate(chars)}\n",
    "encode  = lambda s: [string_int[c] for c in s]\n",
    "decode = lambda l: ''.join([int_string[i] for i in l])\n",
    "\n",
    "data = torch.tensor(encode(text), dtype=torch.long)\n",
    "a = encode('hello')\n",
    "decode(a)"
   ]
  },
  {
   "cell_type": "code",
   "execution_count": 6,
   "metadata": {},
   "outputs": [
    {
     "name": "stdout",
     "output_type": "stream",
     "text": [
      "0 --when context is tensor([1]) target = tensor(1)\n",
      "1 --when context is tensor([1, 1]) target = tensor(28)\n",
      "2 --when context is tensor([ 1,  1, 28]) target = tensor(39)\n",
      "3 --when context is tensor([ 1,  1, 28, 39]) target = tensor(42)\n",
      "4 --when context is tensor([ 1,  1, 28, 39, 42]) target = tensor(39)\n",
      "5 --when context is tensor([ 1,  1, 28, 39, 42, 39]) target = tensor(44)\n",
      "6 --when context is tensor([ 1,  1, 28, 39, 42, 39, 44]) target = tensor(32)\n",
      "7 --when context is tensor([ 1,  1, 28, 39, 42, 39, 44, 32]) target = tensor(49)\n"
     ]
    }
   ],
   "source": [
    "n = int(0.8*len(data))\n",
    "train_data = data[:n]\n",
    "val_data = data[n:]\n",
    "\n",
    "\n",
    "x = train_data[:block_size]\n",
    "y = train_data[1:block_size+1]\n",
    "\n",
    "for t in range(block_size):\n",
    "    context = x[:t+1]\n",
    "    target = y[t]\n",
    "    print(t,'--when context is', context, 'target =', target)"
   ]
  },
  {
   "cell_type": "code",
   "execution_count": 7,
   "metadata": {},
   "outputs": [
    {
     "name": "stdout",
     "output_type": "stream",
     "text": [
      "time taken: 2.873826026916504\n",
      "time taken cpu: 0.4612140655517578\n"
     ]
    }
   ],
   "source": [
    "torch_rand1 = torch.rand(10000,10000).to(device)\n",
    "torch_rand2 = torch.rand(10000,10000).to(device)\n",
    "np_rand1 = torch.rand(10000,10000)\n",
    "np_rand2 = torch.rand(10000,10000)\n",
    "start = time.time()\n",
    "rand = (torch_rand1 @ torch_rand2)\n",
    "end = time.time()\n",
    "time_taken = end-start\n",
    "print(\"time taken:\", time_taken)\n",
    "\n",
    "start = time.time()\n",
    "rand = np.multiply(np_rand1,np_rand2)\n",
    "end = time.time()\n",
    "time_taken_np = end-start\n",
    "print(\"time taken cpu:\",time_taken_np)"
   ]
  },
  {
   "cell_type": "code",
   "execution_count": 8,
   "metadata": {},
   "outputs": [
    {
     "name": "stdout",
     "output_type": "stream",
     "text": [
      "0.008967876434326172\n",
      "CPU times: user 955 µs, sys: 1.7 ms, total: 2.66 ms\n",
      "Wall time: 10.2 ms\n"
     ]
    }
   ],
   "source": [
    "%%time\n",
    "start = time.time()\n",
    "zeros = torch.zeros(1,1)\n",
    "end = time.time()\n",
    "time_taken = end - start\n",
    "print(time_taken)"
   ]
  },
  {
   "cell_type": "code",
   "execution_count": 11,
   "metadata": {},
   "outputs": [
    {
     "name": "stdout",
     "output_type": "stream",
     "text": [
      "tensor([1, 0, 1, 1, 1, 1, 1, 1, 0, 1])\n",
      "tensor([-7.7470,  0.7305,  7.2389], grad_fn=<SqueezeBackward3>)\n"
     ]
    }
   ],
   "source": [
    "#define a probability tensor\n",
    "probabilities = torch.tensor([0.1,0.9])\n",
    "samples  = torch.multinomial(probabilities, num_samples=10, replacement= True)\n",
    "print(samples)\n",
    "\n",
    "sample = torch.tensor([10.,10.,10.])\n",
    "linear = nn.Linear(3,3,bias = False)\n",
    "print(linear(sample))\n",
    "\n"
   ]
  },
  {
   "cell_type": "code",
   "execution_count": 12,
   "metadata": {},
   "outputs": [
    {
     "name": "stdout",
     "output_type": "stream",
     "text": [
      "tensor([[-1.4110e+00, -5.3951e-01, -5.2133e-01,  9.6496e-01, -3.1941e-01],\n",
      "        [-4.8408e-01,  2.9041e+00,  8.7767e-01,  3.2976e-01, -2.7892e-01],\n",
      "        [ 1.2444e+00,  1.3556e-02, -1.6698e-02, -4.1686e-01,  1.6406e-03],\n",
      "        [-1.4825e-01,  1.2516e+00,  1.5249e+00,  2.1618e-02, -1.1154e+00],\n",
      "        [ 4.7466e-01, -1.9139e-01,  1.0134e+00,  4.4341e-02,  1.9125e+00]],\n",
      "       grad_fn=<EmbeddingBackward0>)\n"
     ]
    }
   ],
   "source": [
    "# Suppose we have 10 unique words (num_embeddings) and we want to embed them into 5-dimensional vectors (embedding_dim)\n",
    "embedding = nn.Embedding(num_embeddings=10, embedding_dim=5)\n",
    "\n",
    "# Create a tensor of indices representing words in a sentence\n",
    "input_indices = torch.LongTensor([0, 2, 4, 5, 7])\n",
    "\n",
    "# Retrieve the embeddings for these indices\n",
    "embedded_words = embedding(input_indices)\n",
    "\n",
    "print(embedded_words)  # Each row corresponds to the embedding of a word at the respective index"
   ]
  },
  {
   "cell_type": "code",
   "execution_count": 13,
   "metadata": {},
   "outputs": [],
   "source": [
    "n = int(0.8*len(data))\n",
    "train_data = data[:n]\n",
    "val_data = data[n:]\n",
    "\n",
    "def get_batch(split):\n",
    "  data = train_data if split == 'train' else val_data\n",
    "  ix = torch.randint(len(data) - block_size, (batch_size,))\n",
    "  x = torch.stack([data[i:i+block_size] for i in ix])\n",
    "  y = torch.stack([data[i+1:i+block_size+1] for i in ix])\n",
    "  x = x.to(device)\n",
    "  y = y.to(device)\n",
    "  return x,y\n"
   ]
  },
  {
   "cell_type": "code",
   "execution_count": 14,
   "metadata": {},
   "outputs": [],
   "source": [
    "@torch.no_grad()    ##to disable \n",
    "def estimate_loss():\n",
    "    out = {}\n",
    "    model.eval()\n",
    "    for split in ['train', 'val']:\n",
    "        losses = torch.zeros(eval_iters)\n",
    "        for k in range(eval_iters):\n",
    "            X, Y = get_batch(split)\n",
    "            logits, loss = model(X, Y)\n",
    "            losses[k] = loss.item()\n",
    "        out[split] = losses.mean()\n",
    "    model.train()\n",
    "    return out"
   ]
  },
  {
   "cell_type": "code",
   "execution_count": 15,
   "metadata": {},
   "outputs": [
    {
     "name": "stdout",
     "output_type": "stream",
     "text": [
      "\n",
      "?\n",
      "6w-UDoRRV1]'0jtOa&w;T)g'c:7zns*V ]OXbw:O)gt-_HAk?,jili X]_M[&6xyrGt4i]\"mOg2q,jb,qQQHS -B]5lD!\n",
      "cEjt1,38w -?v9g,Jgvl4v9&EqcQ4TKZ:1jiNzQvUhl[8hOgRNzZJ[BAI'Ns[t)7&kFpfuXbL.:t_n2z\"6iK.u*nhB5AemE cvO?Ey?\"9Uhnpjj&[b8cfY-6I'9Az49&[Hacb8VEfY\n",
      "riW.)k'a,.'t*n9J57'?zZmO\"*L*G2TOT5S[4MZ;EO5Ar2pZ()2Y2vzgsRuEd!Jy5SJ6BU)Vd:'_vhnR'RRRplkFRRET3[7Vsgjq*Fm36znzG4H]7P]];dO?vUg,jQ.VU-MK5O.\"8mMDT:A0:p-N_e&5 zij;BGEQnO)2w;J7iWYO] abIyIq5pDo:1rWEj9?YuOW,qd2xNC]b?Oj\n",
      "cKwji;T3[I'rjDGH]5Yjp?B(FeLtL xwM1Loy7.lw51yD3xGzDp5(m?\n"
     ]
    }
   ],
   "source": [
    "class BigramLanguageModel(nn.Module):\n",
    "  def __init__(self,vocab_size):\n",
    "    super().__init__()\n",
    "    self.token_embedding_table = nn.Embedding(vocab_size,vocab_size)\n",
    "    \n",
    "  \n",
    "  def forward(self,index,targets = None):       ##****************\n",
    "    logits = self.token_embedding_table(index)\n",
    "\n",
    "    if targets is None:\n",
    "      loss = None\n",
    "    else:\n",
    "      B, T, C = logits.shape\n",
    "      logits = logits.view(B*T,C)\n",
    "      targets = targets.view(B*T)\n",
    "      loss = F.cross_entropy(logits,targets)\n",
    "    return logits, loss\n",
    "\n",
    "  def generate(self, index, max_new_tokens):\n",
    "    for _ in range(max_new_tokens):\n",
    "      logits,loss = self.forward(index)\n",
    "      logits = logits[:,-1,:]\n",
    "      probs = F.softmax(logits,dim = -1)\n",
    "      index_next = torch.multinomial(probs, num_samples = 1)\n",
    "      index = torch.cat((index,index_next), dim = 1)\n",
    "    return index\n",
    "\n",
    "model = BigramLanguageModel(vocab_size)\n",
    "m = model.to(device)\n",
    "context = torch.zeros((1,1), dtype = torch.long, device=device)     ##torch.long - 64bits/8bytes\n",
    "generated_chars = decode(m.generate(context, max_new_tokens=500)[0].tolist())\n",
    "print(generated_chars)"
   ]
  },
  {
   "cell_type": "code",
   "execution_count": null,
   "metadata": {},
   "outputs": [],
   "source": []
  }
 ],
 "metadata": {
  "kernelspec": {
   "display_name": "base",
   "language": "python",
   "name": "python3"
  },
  "language_info": {
   "codemirror_mode": {
    "name": "ipython",
    "version": 3
   },
   "file_extension": ".py",
   "mimetype": "text/x-python",
   "name": "python",
   "nbconvert_exporter": "python",
   "pygments_lexer": "ipython3",
   "version": "3.9.12"
  }
 },
 "nbformat": 4,
 "nbformat_minor": 2
}
