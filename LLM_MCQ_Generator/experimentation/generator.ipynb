{
 "cells": [
  {
   "cell_type": "code",
   "execution_count": 14,
   "metadata": {},
   "outputs": [],
   "source": [
    "import os\n",
    "import json\n",
    "import pandas as pd\n",
    "import traceback\n",
    "import openai\n",
    "import langchain \n",
    "\n"
   ]
  },
  {
   "cell_type": "code",
   "execution_count": 15,
   "metadata": {},
   "outputs": [],
   "source": [
    "from langchain.chat_models import ChatOpenAI\n",
    "\n",
    "from langchain.llms import OpenAI\n",
    "from langchain.prompts import PromptTemplate\n",
    "from langchain.chains import LLMChain\n",
    "from langchain.chains import SequentialChain\n",
    "from langchain.callbacks import get_openai_callback\n",
    "import PyPDF2\n"
   ]
  },
  {
   "cell_type": "code",
   "execution_count": 21,
   "metadata": {},
   "outputs": [],
   "source": [
    "from dotenv import load_dotenv\n",
    "load_dotenv()\n",
    "KEY = os.getenv('OPENAI_API_KEY ')\n",
    "llm = ChatOpenAI(model_name = \"gpt-3.5-turbo\",api_key=KEY)"
   ]
  },
  {
   "cell_type": "code",
   "execution_count": 53,
   "metadata": {},
   "outputs": [],
   "source": [
    "TEMPLATE = \"\"\"\n",
    "Text: {text}\n",
    "\n",
    "As an expert in MCQ generation, your task is to create a quiz consisting of {number} multiple-choice questions for students studying {subject}. The questions should be crafted in a {tone} manner and reflect the context provided. Each question must have one correct answer and three incorrect options.\n",
    "\n",
    "Ensure your responses are structured as follows, using JSON format for clarity:\n",
    "{response_json}\n",
    "\"\"\"\n",
    "\n",
    "response_json_template = {\n",
    "    \"questions\": [\n",
    "        {\n",
    "            \"question\": \"What is the capital of France?\",\n",
    "            \"options\": [\"a. Paris\", \"b. London\", \"c. Rome\", \"d. Madrid\"],\n",
    "            \"correct_option\": \"a\"\n",
    "        }\n",
    "    ]\n",
    "}\n",
    "\n",
    "quiz_generation_prompt = PromptTemplate(\n",
    "    input_variables=[\"text\", \"number\", \"subject\", \"tone\",'response_json'],\n",
    "    template=TEMPLATE\n",
    ")\n"
   ]
  },
  {
   "cell_type": "code",
   "execution_count": 54,
   "metadata": {},
   "outputs": [
    {
     "data": {
      "text/plain": [
       "'{\"questions\": [{\"question\": \"What is the capital of France?\", \"options\": [\"a. Paris\", \"b. London\", \"c. Rome\", \"d. Madrid\"], \"correct_option\": \"a\"}]}'"
      ]
     },
     "execution_count": 54,
     "metadata": {},
     "output_type": "execute_result"
    }
   ],
   "source": [
    "json.dumps(response_json_template)"
   ]
  },
  {
   "cell_type": "code",
   "execution_count": 55,
   "metadata": {},
   "outputs": [],
   "source": [
    "quiz_generator_chain = LLMChain(llm = llm, prompt = quiz_generation_prompt, output_key='quiz_questions', verbose=True)\n"
   ]
  },
  {
   "cell_type": "code",
   "execution_count": 56,
   "metadata": {},
   "outputs": [],
   "source": [
    "EVALUATION_TEMPLATE = \"\"\"\n",
    "As an expert in English grammar and writing, you have been presented with a Multiple Choice Quiz intended for {subject} students. Your task is to evaluate the complexity of the questions and provide a comprehensive analysis of the quiz. Offer concise feedback, limited to 50 words per question, addressing the cognitive and analytical demands posed by the quiz. If necessary, suggest modifications to the questions that will better align with the students' abilities.\n",
    "\n",
    "Quiz MCQs:\n",
    "{quiz_questions}\n",
    "\n",
    "Based on your expertise as an English Writer, provide your critique and suggested enhancements for the quiz above:\n",
    "\"\"\"\n",
    "\n",
    "quiz_evaluation_prompt = PromptTemplate(\n",
    "    input_variables=[\"subject\", \"quiz_questions\"],\n",
    "    template=EVALUATION_TEMPLATE\n",
    ")\n"
   ]
  },
  {
   "cell_type": "code",
   "execution_count": 57,
   "metadata": {},
   "outputs": [],
   "source": [
    "quiz_review_chain = LLMChain(llm= llm, prompt=quiz_evaluation_prompt, verbose=True, output_key='quiz_review')\n"
   ]
  },
  {
   "cell_type": "code",
   "execution_count": 58,
   "metadata": {},
   "outputs": [],
   "source": [
    "final_chain = SequentialChain(chains=[quiz_generator_chain,quiz_review_chain], input_variables=[\"text\", \"number\", \"subject\", \"tone\",'response_json'],output_variables=['quiz_questions','quiz_review'],verbose=True)"
   ]
  },
  {
   "cell_type": "code",
   "execution_count": 59,
   "metadata": {},
   "outputs": [],
   "source": [
    "file_path = r'/Users/loke/Library/CloudStorage/Dropbox/Project/LLM Projects/LLM_MCQ_Generator/data.txt'\n",
    "with open(file_path,'r') as file:\n",
    "    TEXT = file.read()\n",
    "\n"
   ]
  },
  {
   "cell_type": "code",
   "execution_count": 60,
   "metadata": {},
   "outputs": [
    {
     "name": "stdout",
     "output_type": "stream",
     "text": [
      "\n",
      "\n",
      "\u001b[1m> Entering new SequentialChain chain...\u001b[0m\n",
      "\n",
      "\n",
      "\u001b[1m> Entering new LLMChain chain...\u001b[0m\n",
      "Prompt after formatting:\n",
      "\u001b[32;1m\u001b[1;3m\n",
      "Text: Introduction to Bank Accounts\n",
      "A bank account is typically the first financial account that you’ll open. Bank accounts can hold and build the money you'll need for major purchases and life events. Here’s some background on bank accounts and why they are step one in creating a stable financial future.\n",
      "\n",
      "Why Do I Need a Bank Account?\n",
      "Though the majority of Americans do have bank accounts, 6% of households in the United States still don’t have one.\n",
      "2\n",
      " Why is it so important to open a bank account? Because it’s safer than holding cash. Assets held in a bank are harder to steal, and in the U.S., they’re generally insured by the Federal Deposit Insurance Corporation (FDIC).\n",
      "3\n",
      " That means you should always have access to your cash, even if every customer decided to withdraw their money at the same time.\n",
      "\n",
      "Many financial transactions require you to have a bank account to:\n",
      "\n",
      "Use a debit or credit card\n",
      "Use payment apps like Venmo or PayPal\n",
      "Write a check\n",
      "Use an ATM\n",
      "Buy or rent a home\n",
      "Receive your paycheck from your employer\n",
      "Earn interest on your money\n",
      "Online vs. Brick-and-Mortar Banks\n",
      "When you think of a bank, you probably picture a building. This is called a brick-and-mortar bank. Many brick-and-mortar banks also allow you to open accounts and manage your money online.\n",
      "\n",
      "Some banks are only online and have no physical buildings. These banks typically offer the same services as brick-and-mortar banks, aside from the ability to visit them in person.\n",
      "\n",
      "Which Type of Bank Can I Use?\n",
      "Retail banks: This is the most common type of bank at which people have accounts. Retail banks are for-profit companies that offer checking and savings accounts, loans, credit cards, and insurance. Retail banks can have physical, in-person buildings that you can visit or they can be online only. Most offer both options. Banks’ online technology tends to be advanced, and they often have more locations and ATMs nationwide than credit unions do.\n",
      "\n",
      "Credit unions: Credit unions provide savings and checking accounts, issue loans, and offer other financial products, just like banks do. However, they are not-for-profit organizations owned by their members. Credit unions tend to have lower fees and better interest rates on savings accounts and loans. Credit unions are sometimes known for providing more personalized customer service, though they usually have far fewer branches and ATMs.\n",
      "\n",
      "Assets held in a credit union are insured by the National Credit Union Administration (NCUA), which is equivalent to the FDIC for banks.\n",
      "4\n",
      "\n",
      "What Types of Bank Accounts Can I Open?\n",
      "There are three main types of bank accounts that the average person may want to open:\n",
      "\n",
      "1. Savings account: A savings account is an interest-bearing deposit account held at a bank or other financial institution. Savings accounts typically pay a low interest rate, but their safety and reliability make them a sensible option for saving available cash for short-term needs.\n",
      "\n",
      "They may have some legal limitations on how often you can withdraw money. However, they’re generally very flexible so they’re ideal for building an emergency fund, saving for a short-term goal like buying a car or going on vacation, or simply storing extra cash that you don’t need in your checking account.\n",
      "\n",
      "2. Checking account: A checking account is also a deposit account at a bank or other financial institution that allows you to make deposits and withdrawals. Checking accounts are very liquid, meaning that they allow numerous withdrawals per month (as opposed to less liquid savings or investment accounts) though they earn little to no interest.\n",
      "\n",
      "Money can be deposited at banks and ATMs, through direct deposit, or through another type of electronic transfer. Account holders can withdraw funds via banks and ATMs, by writing checks, or using debit cards linked to their accounts.\n",
      "\n",
      "You may be able to find a checking account with no fees. Others have monthly and other charges (such as for overdrafts or using an out-of-network ATM) based on, for example, how much you keep in the account or whether there’s a direct deposit paycheck or automatic-withdrawal mortgage payment connected to the account.\n",
      "\n",
      "Lifeline and second-chance accounts, available at some banks, can help those who have difficulty qualifying for a traditional checking account.\n",
      "\n",
      "3. High-yield savings account: A high-yield savings account usually pays a much higher rate of interest than a standard savings account. The tradeoff for earning more interest on your money is that high-yield accounts tend to require bigger initial deposits, larger minimum balances, and higher fees.\n",
      "\n",
      "You might be able to open a high-yield savings account at your current bank, but online banks tend to have the highest interest rates.\n",
      "What’s An Emergency Fund?\n",
      "An emergency fund is not a specific type of bank account but can be any source of cash that you’ve saved to help you handle financial hardships like job losses, medical bills, or car repairs. Here's how they work:\n",
      "\n",
      "Most people use a separate savings account for their emergency savings.\n",
      "The account should eventually total enough to cover at least three to six months’ worth of expenses.\n",
      "Emergency fund money should be off-limits for paying regular expenses.\n",
      "Introduction to Credit Cards\n",
      "You know them as the plastic cards that (almost) everyone carries in their wallets. Credit cards are accounts that let you borrow money from the credit card issuer and pay it back over time. For every month that you don’t pay back the money in full, you’ll be charged interest on your remaining balance. Note that some credit cards, called charge cards, require you to pay your balance in full each month. However, these are less common.\n",
      "\n",
      "What’s the Difference Between Credit and Debit Cards?\n",
      "Here is the difference:\n",
      "\n",
      "Debit cards take money directly out of your checking account. You can’t borrow money with debit cards, which means that you can’t spend more cash than you have in the bank. And debit cards don’t help you to build a credit history and credit rating.\n",
      "\n",
      "Credit cards allow you to borrow money and do not pull cash from your bank account. This can be helpful for large, unexpected purchases. But carrying a balance every month—not paying back in full the money that you borrowed—means that you’ll owe interest to the credit card issuer. In fact, as of Q4 2022, Americans owed $986 billion in credit card debt.\n",
      "5\n",
      " So be very careful about spending more money than you have, because debt can build up quickly and become difficult to pay off.\n",
      "\n",
      "On the other hand, using a credit card judiciously and paying your credit card bills on time helps you establish a credit history and a good credit rating. It’s important to build a good credit rating not only to qualify for the best credit cards but also because you will get more favorable interest rates on car loans, personal loans, and mortgages.\n",
      "\n",
      "What Is APR?\n",
      "APR stands for annual percentage rate. This is the amount of interest that you’ll owe the credit card issuer on any unpaid balance. You’ll want to pay close attention to this number when you apply for a credit card. A higher number can cost you hundreds or even thousands of dollars if you carry a large balance over time. The median APR today is about 24%, but your rate may be higher if you have bad credit. Interest rates also tend to vary by the type of credit card.\n",
      "\n",
      "Which Credit Card Should I Choose?\n",
      "Credit scores have a big impact on your odds of getting approved for a credit card. Understanding what range your score falls into can help you narrow the options as you decide on the cards for which you may apply. Beyond your credit score, you’ll also need to decide which perks best suit your lifestyle and spending habits.\n",
      "\n",
      "If you’ve never had a credit card before, or if you have bad credit, you’ll likely need to apply for either a secured credit card or a subprime credit card. By using one of these and paying back on time, you can raise your credit score and earn the right to credit at better rates.\n",
      "\n",
      "If you have a fair to good credit score, you can choose from a variety of credit card types, such as:\n",
      "\n",
      "Travel rewards cards. These credit cards offer points redeemable for travel—including flights, hotels, and rental cars—with each dollar you spend.\n",
      "Cash-back cards. If you don’t travel often—or don’t want to deal with converting points into real-life perks—a cash-back card might be the best fit for you. Every month, you’ll receive a small portion of your spending back, in cash or as a credit to your statement.\n",
      "Balance transfer cards. If you have balances on other cards with high interest rates, transferring your balance to a lower-rate credit card could save you money, help you pay off balances, and help improve your credit score.\n",
      "Low- or No-APR cards. If you routinely carry a balance from month to month, switching to a credit card with a low or no APR could save you hundreds of dollars per year in interest payments.\n",
      "Be aware of your protections under the Equal Credit Opportunity Act. Research credit opportunities and available interest rates, and be sure that you are offered the best rates for your particular credit history and financial situation.\n",
      "\n",
      "As an expert in MCQ generation, your task is to create a quiz consisting of 3 multiple-choice questions for students studying Finanace. The questions should be crafted in a simple manner and reflect the context provided. Each question must have one correct answer and three incorrect options.\n",
      "\n",
      "Ensure your responses are structured as follows, using JSON format for clarity:\n",
      "{\"questions\": [{\"question\": \"What is the capital of France?\", \"options\": [\"a. Paris\", \"b. London\", \"c. Rome\", \"d. Madrid\"], \"correct_option\": \"a\"}]}\n",
      "\u001b[0m\n",
      "\n",
      "\u001b[1m> Finished chain.\u001b[0m\n",
      "\n",
      "\n",
      "\u001b[1m> Entering new LLMChain chain...\u001b[0m\n",
      "Prompt after formatting:\n",
      "\u001b[32;1m\u001b[1;3m\n",
      "As an expert in English grammar and writing, you have been presented with a Multiple Choice Quiz intended for Finanace students. Your task is to evaluate the complexity of the questions and provide a comprehensive analysis of the quiz. Offer concise feedback, limited to 50 words per question, addressing the cognitive and analytical demands posed by the quiz. If necessary, suggest modifications to the questions that will better align with the students' abilities.\n",
      "\n",
      "Quiz MCQs:\n",
      "\n",
      "{\n",
      "  \"questions\": [\n",
      "    {\n",
      "      \"question\": \"What is the purpose of opening a bank account?\",\n",
      "      \"options\": [\n",
      "        \"a. To hold and build money for major purchases and life events\",\n",
      "        \"b. To store cash at home\",\n",
      "        \"c. To invest in stocks and bonds\",\n",
      "        \"d. To hide money from the government\"\n",
      "      ],\n",
      "      \"correct_option\": \"a\"\n",
      "    },\n",
      "    {\n",
      "      \"question\": \"What is the main difference between a debit card and a credit card?\",\n",
      "      \"options\": [\n",
      "        \"a. Debit cards allow you to borrow money, while credit cards do not\",\n",
      "        \"b. Credit cards take money directly from your bank account, while debit cards do not\",\n",
      "        \"c. Credit cards help you build a credit history, while debit cards do not\",\n",
      "        \"d. Debit cards charge interest on unpaid balances, while credit cards do not\"\n",
      "      ],\n",
      "      \"correct_option\": \"c\"\n",
      "    },\n",
      "    {\n",
      "      \"question\": \"What is APR in relation to credit cards?\",\n",
      "      \"options\": [\n",
      "        \"a. Annual Payment Rate\",\n",
      "        \"b. Additional Purchase Requirement\",\n",
      "        \"c. Average Percentage Return\",\n",
      "        \"d. Annual Percentage Rate\"\n",
      "      ],\n",
      "      \"correct_option\": \"d\"\n",
      "    }\n",
      "  ]\n",
      "}\n",
      "\n",
      "Based on your expertise as an English Writer, provide your critique and suggested enhancements for the quiz above:\n",
      "\u001b[0m\n",
      "\n",
      "\u001b[1m> Finished chain.\u001b[0m\n",
      "\n",
      "\u001b[1m> Finished chain.\u001b[0m\n"
     ]
    }
   ],
   "source": [
    "NUMBER = 3\n",
    "SUBJECT = 'Finanace'\n",
    "TONE = 'simple'\n",
    "\n",
    "#This helps to track the token usage in openai\n",
    "with get_openai_callback() as cb:\n",
    "    response = final_chain({'text':TEXT,\n",
    "                            'number':NUMBER,\n",
    "                            'subject':SUBJECT,\n",
    "                            'tone':TONE,\n",
    "                            'response_json':json.dumps(response_json_template)\n",
    "                            })"
   ]
  },
  {
   "cell_type": "code",
   "execution_count": 61,
   "metadata": {},
   "outputs": [
    {
     "data": {
      "text/plain": [
       "'\\n{\\n  \"questions\": [\\n    {\\n      \"question\": \"What is the purpose of opening a bank account?\",\\n      \"options\": [\\n        \"a. To hold and build money for major purchases and life events\",\\n        \"b. To store cash at home\",\\n        \"c. To invest in stocks and bonds\",\\n        \"d. To hide money from the government\"\\n      ],\\n      \"correct_option\": \"a\"\\n    },\\n    {\\n      \"question\": \"What is the main difference between a debit card and a credit card?\",\\n      \"options\": [\\n        \"a. Debit cards allow you to borrow money, while credit cards do not\",\\n        \"b. Credit cards take money directly from your bank account, while debit cards do not\",\\n        \"c. Credit cards help you build a credit history, while debit cards do not\",\\n        \"d. Debit cards charge interest on unpaid balances, while credit cards do not\"\\n      ],\\n      \"correct_option\": \"c\"\\n    },\\n    {\\n      \"question\": \"What is APR in relation to credit cards?\",\\n      \"options\": [\\n        \"a. Annual Payment Rate\",\\n        \"b. Additional Purchase Requirement\",\\n        \"c. Average Percentage Return\",\\n        \"d. Annual Percentage Rate\"\\n      ],\\n      \"correct_option\": \"d\"\\n    }\\n  ]\\n}'"
      ]
     },
     "execution_count": 61,
     "metadata": {},
     "output_type": "execute_result"
    }
   ],
   "source": [
    "response.get('quiz_questions')"
   ]
  },
  {
   "cell_type": "code",
   "execution_count": 62,
   "metadata": {},
   "outputs": [
    {
     "data": {
      "text/plain": [
       "{'questions': [{'question': 'What is the purpose of opening a bank account?',\n",
       "   'options': ['a. To hold and build money for major purchases and life events',\n",
       "    'b. To store cash at home',\n",
       "    'c. To invest in stocks and bonds',\n",
       "    'd. To hide money from the government'],\n",
       "   'correct_option': 'a'},\n",
       "  {'question': 'What is the main difference between a debit card and a credit card?',\n",
       "   'options': ['a. Debit cards allow you to borrow money, while credit cards do not',\n",
       "    'b. Credit cards take money directly from your bank account, while debit cards do not',\n",
       "    'c. Credit cards help you build a credit history, while debit cards do not',\n",
       "    'd. Debit cards charge interest on unpaid balances, while credit cards do not'],\n",
       "   'correct_option': 'c'},\n",
       "  {'question': 'What is APR in relation to credit cards?',\n",
       "   'options': ['a. Annual Payment Rate',\n",
       "    'b. Additional Purchase Requirement',\n",
       "    'c. Average Percentage Return',\n",
       "    'd. Annual Percentage Rate'],\n",
       "   'correct_option': 'd'}]}"
      ]
     },
     "execution_count": 62,
     "metadata": {},
     "output_type": "execute_result"
    }
   ],
   "source": [
    "quiz_questions_final = response.get('quiz_questions')\n",
    "quiz_questions_final = json.loads(quiz_questions_final)\n",
    "quiz_questions_final"
   ]
  },
  {
   "cell_type": "code",
   "execution_count": 65,
   "metadata": {},
   "outputs": [
    {
     "data": {
      "text/html": [
       "<div>\n",
       "<style scoped>\n",
       "    .dataframe tbody tr th:only-of-type {\n",
       "        vertical-align: middle;\n",
       "    }\n",
       "\n",
       "    .dataframe tbody tr th {\n",
       "        vertical-align: top;\n",
       "    }\n",
       "\n",
       "    .dataframe thead th {\n",
       "        text-align: right;\n",
       "    }\n",
       "</style>\n",
       "<table border=\"1\" class=\"dataframe\">\n",
       "  <thead>\n",
       "    <tr style=\"text-align: right;\">\n",
       "      <th></th>\n",
       "      <th>question</th>\n",
       "      <th>options</th>\n",
       "      <th>correct_option</th>\n",
       "    </tr>\n",
       "  </thead>\n",
       "  <tbody>\n",
       "    <tr>\n",
       "      <th>0</th>\n",
       "      <td>What is the purpose of opening a bank account?</td>\n",
       "      <td>a. To hold and build money for major purchases...</td>\n",
       "      <td>a</td>\n",
       "    </tr>\n",
       "    <tr>\n",
       "      <th>1</th>\n",
       "      <td>What is the main difference between a debit ca...</td>\n",
       "      <td>a. Debit cards allow you to borrow money, whil...</td>\n",
       "      <td>c</td>\n",
       "    </tr>\n",
       "    <tr>\n",
       "      <th>2</th>\n",
       "      <td>What is APR in relation to credit cards?</td>\n",
       "      <td>a. Annual Payment Rate\\nb. Additional Purchase...</td>\n",
       "      <td>d</td>\n",
       "    </tr>\n",
       "  </tbody>\n",
       "</table>\n",
       "</div>"
      ],
      "text/plain": [
       "                                            question  \\\n",
       "0     What is the purpose of opening a bank account?   \n",
       "1  What is the main difference between a debit ca...   \n",
       "2           What is APR in relation to credit cards?   \n",
       "\n",
       "                                             options correct_option  \n",
       "0  a. To hold and build money for major purchases...              a  \n",
       "1  a. Debit cards allow you to borrow money, whil...              c  \n",
       "2  a. Annual Payment Rate\\nb. Additional Purchase...              d  "
      ]
     },
     "execution_count": 65,
     "metadata": {},
     "output_type": "execute_result"
    }
   ],
   "source": [
    "# Normalize the JSON data into a flat table\n",
    "quiz_questions_final = pd.json_normalize(quiz_questions_final['questions'])\n",
    "\n",
    "quiz_questions_final['options'] = quiz_questions_final['options'].apply(lambda opts: '\\n'.join(opts))\n",
    "\n",
    "quiz_questions_final"
   ]
  },
  {
   "cell_type": "code",
   "execution_count": null,
   "metadata": {},
   "outputs": [],
   "source": []
  }
 ],
 "metadata": {
  "kernelspec": {
   "display_name": "Python 3",
   "language": "python",
   "name": "python3"
  },
  "language_info": {
   "codemirror_mode": {
    "name": "ipython",
    "version": 3
   },
   "file_extension": ".py",
   "mimetype": "text/x-python",
   "name": "python",
   "nbconvert_exporter": "python",
   "pygments_lexer": "ipython3",
   "version": "3.9.19"
  }
 },
 "nbformat": 4,
 "nbformat_minor": 2
}
